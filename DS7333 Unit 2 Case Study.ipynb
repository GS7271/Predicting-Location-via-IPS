{
 "cells": [
  {
   "cell_type": "markdown",
   "metadata": {},
   "source": [
    "__Predicting Location via Indoor Positioning Systems__\n",
    "\n",
    "*Oscar Padilla*"
   ]
  },
  {
   "cell_type": "markdown",
   "metadata": {},
   "source": [
    "# Introduction\n",
    "The R code below was mainly developed in [Chapter 1] (http://rdatasciencecases.org/GeoLoc/code.R) of the book by Deborah Nolan and Duncan Temple Lang called “Data Science in R: A Case Studies Approach to Computational Reasoning and Problem Solving” [1]. \n",
    "This original code was modified, as needed, in order to solve questions (9) and (12) in the Exercises section."
   ]
  },
  {
   "cell_type": "markdown",
   "metadata": {},
   "source": [
    "# Background\n",
    "Two relevant data sets for developing an IPS are available on the CRAWDAD site (A Community Resource for Archiving Wireless Data At Dartmouth) [1].\n",
    "COMPASS is a positioning system based on 802.11 and digital compasses. Authors [Thomas King, Stephan Kopf, Thomas Haenselmann, Christian Lubberger, Wolfgang Effelsberg] applied an two-stage fingerprinting approach: In the training phase, we sample the signal strength of neighboring access points for selected orientations at each reference point and store the data in a database. During the positioning phase, the orientation of the user is utilized to preselect a subset of the training data and based on this data compute her position [2].\n",
    "The header data for each line of code contains:\n",
    "\n",
    "| Variable | Description                                                                                                                                |\n",
    "|----------|--------------------------------------------------------------------------------------------------------------------------------------------|\n",
    "| t        | timestamp in milliseconds since midnight, January 1, 1970 UTC                                                                              |\n",
    "| id       | MAC address of the scanning device                                                                                                         |\n",
    "| pos      | degree orientation of the user carrying the scanning device                                                                                |\n",
    "| MAC      | MAC address of a responding peer (i.e. access point or a device in adhoc mode) with values for signal strength in dBm (Decibel-milliwatts) |\n",
    "\n",
    "TABLE 1: Units of Measurement [1]\n",
    "\n",
    "In Section 1.5, Nolan and Lang apply nearest neighbor methods to predict location. Throughout the process and for simplification purposes, certains assumptions are made, such as choosing one access point over another, or using simple average instead of a weighted average. Throughout this paper, both assumptions are challenged in search of the optimal model.\n",
    "\n",
    "__Question 9)__ The floor plan for the building shows 6 access points. However, the data contain 7 access points with roughly the expected number of signals (166 location × 8 orientations × 110 replications = 146,080 measurements). With the signal strength seen in the heat maps of Figure 1.10), we matched the access points to the corresponding MAC address. However, two of the MAC addresses seem to be for the same access point.\n",
    "In Section 1.3.2 we decided to keep the measurements from the MAC address 00:0f:a3:39:e1:c0 and to eliminate the 00:0f:a3:39:dd:cd address. Conduct a more thorough data analysis into these two MAC addresses. Did we make the correct decision? Does swapping out the one we kept for the one we discarded improve the prediction?\n",
    "\n",
    "__Question 12)__ To predict location, we use the *k* nearest neighbors to a set of signal strengths. We average the known *(x, y)* values for these neighbors. However, a better predictor might be a weighted average, where the weights are inversely proportional to the “distance” (in signal strength) from the test observation. This allows us to include the k points\n",
    "that are close, but to differentiate between them by how close they actually are. The weights might be\n",
    "<center>\n",
    "$\\frac{1/d_i}{\\sum_{i=1}^{k}{1/d_i}}$\n",
    "</center>\n",
    "for the *i*-th closest neighboring observation where *di* is the distance from our new test point to this reference point (in signal strength space). Implement this alternative prediction method. Does this improve the predictions? Use calcError() to compare this approach to the simple average."
   ]
  },
  {
   "cell_type": "markdown",
   "metadata": {},
   "source": [
    "# Methods\n",
    "- __Scenario 1__: \n",
    "Keep access point with mac:00:0f:a3:39:e1:c0 and eliminate data with mac:00:0f:a3:39:dd:cd (original) (6 macs)\n",
    "- __Scenario 2__: \n",
    "Same as Scenario 1, but apply weighted average (instead of straight average) (6 macs)\n",
    "- __Scenario 3__: \n",
    "Eliminate access point with mac:00:0f:a3:39:e1:c0 and keep the data with mac:00:0f:a3:39:dd:cd (new) (6 macs)\n",
    "- __Scenario 4__: \n",
    "Same as Scenario 3, but apply weighted average (instead of straight average) (6 macs)\n",
    "- __Scenario 5__: \n",
    "Keep both access points with straight average (7 macs)\n",
    "- __Scenario 6__: \n",
    "Keep both access points with weighted average (7 macs)\n",
    "\n",
    "In summary the test strategy is as follows,"
   ]
  },
  {
   "cell_type": "code",
   "execution_count": 1,
   "metadata": {
    "collapsed": false
   },
   "outputs": [
    {
     "data": {
      "text/html": [
       "<table>\n",
       "<thead><tr><th scope=col>MAC</th><th scope=col>StraightAvg</th><th scope=col>WeightedAvg</th></tr></thead>\n",
       "<tbody>\n",
       "\t<tr><td>00:0f:a3:39:e1:c0</td><td>Scenario 1       </td><td>Scenario 2       </td></tr>\n",
       "\t<tr><td>00:0f:a3:39:dd:cd</td><td>Scenario 3       </td><td>Scenario 4       </td></tr>\n",
       "\t<tr><td>BOTH             </td><td>Scenario 5       </td><td>Scenario 6       </td></tr>\n",
       "</tbody>\n",
       "</table>\n"
      ],
      "text/latex": [
       "\\begin{tabular}{r|lll}\n",
       " MAC & StraightAvg & WeightedAvg\\\\\n",
       "\\hline\n",
       "\t 00:0f:a3:39:e1:c0 & Scenario 1        & Scenario 2       \\\\\n",
       "\t 00:0f:a3:39:dd:cd & Scenario 3        & Scenario 4       \\\\\n",
       "\t BOTH              & Scenario 5        & Scenario 6       \\\\\n",
       "\\end{tabular}\n"
      ],
      "text/markdown": [
       "\n",
       "MAC | StraightAvg | WeightedAvg | \n",
       "|---|---|---|\n",
       "| 00:0f:a3:39:e1:c0 | Scenario 1        | Scenario 2        | \n",
       "| 00:0f:a3:39:dd:cd | Scenario 3        | Scenario 4        | \n",
       "| BOTH              | Scenario 5        | Scenario 6        | \n",
       "\n",
       "\n"
      ],
      "text/plain": [
       "  MAC               StraightAvg WeightedAvg\n",
       "1 00:0f:a3:39:e1:c0 Scenario 1  Scenario 2 \n",
       "2 00:0f:a3:39:dd:cd Scenario 3  Scenario 4 \n",
       "3 BOTH              Scenario 5  Scenario 6 "
      ]
     },
     "metadata": {},
     "output_type": "display_data"
    }
   ],
   "source": [
    "MAC <- c(\"00:0f:a3:39:e1:c0\", \"00:0f:a3:39:dd:cd\", \"BOTH\")\n",
    "StraightAvg <- c(\"Scenario 1\", \"Scenario 3\", \"Scenario 5\")\n",
    "WeightedAvg <- c(\"Scenario 2\", \"Scenario 4\", \"Scenario 6\")\n",
    "Strategy <- data.frame(MAC, StraightAvg, WeightedAvg)\n",
    "Strategy"
   ]
  },
  {
   "cell_type": "markdown",
   "metadata": {},
   "source": [
    "TABLE 2: Scenarios\n",
    "\n",
    "## Libraries"
   ]
  },
  {
   "cell_type": "code",
   "execution_count": 2,
   "metadata": {
    "collapsed": true
   },
   "outputs": [],
   "source": [
    "library(ggplot2)\n",
    "library(gridExtra)"
   ]
  },
  {
   "cell_type": "markdown",
   "metadata": {},
   "source": [
    "## Reading in training data\n",
    "Importing of the \"original\" training data set = offline\n",
    "\n",
    "- procesLine (function)"
   ]
  },
  {
   "cell_type": "code",
   "execution_count": 3,
   "metadata": {
    "collapsed": true
   },
   "outputs": [],
   "source": [
    "processLine = function(x) {\n",
    "  tokens = strsplit(x, \"[;=,]\")[[1]]\n",
    "  \n",
    "  if (length(tokens) == 10)  # lines with signal responses ONLY\n",
    "    return(NULL)\n",
    "  \n",
    "  tmp = matrix(tokens[ - (1:10) ], ncol= 4, byrow = TRUE)\n",
    "  cbind(matrix(tokens[c(2, 4, 6:8, 10)], nrow(tmp), 6, \n",
    "               byrow = TRUE), tmp)\n",
    "}"
   ]
  },
  {
   "cell_type": "markdown",
   "metadata": {},
   "source": [
    "- roundOrientation (function)"
   ]
  },
  {
   "cell_type": "code",
   "execution_count": 4,
   "metadata": {
    "collapsed": true
   },
   "outputs": [],
   "source": [
    "roundOrientation = function(angles) {\n",
    "  refs = seq(0, by = 45, length  = 9)\n",
    "  q = sapply(angles, function(o) which.min(abs(o - refs)))\n",
    "  c(refs[1:8], 0)[q]\n",
    "}"
   ]
  },
  {
   "cell_type": "markdown",
   "metadata": {},
   "source": [
    "- macs (7 macs)"
   ]
  },
  {
   "cell_type": "code",
   "execution_count": 5,
   "metadata": {
    "collapsed": true
   },
   "outputs": [],
   "source": [
    "macs = c(\"00:0f:a3:39:e1:c0\", \"00:0f:a3:39:dd:cd\", \n",
    "         \"00:14:bf:b1:97:8a\", \"00:14:bf:3b:c7:c6\", \"00:14:bf:b1:97:90\", \"00:14:bf:b1:97:8d\", \"00:14:bf:b1:97:81\")"
   ]
  },
  {
   "cell_type": "markdown",
   "metadata": {},
   "source": [
    "- readData (function)"
   ]
  },
  {
   "cell_type": "code",
   "execution_count": 6,
   "metadata": {
    "collapsed": true
   },
   "outputs": [],
   "source": [
    "readData = function(filename, subMacs) {\n",
    "    txt = readLines(filename)\n",
    "    lines = txt[ substr(txt, 1, 1) != \"#\" ]\n",
    "    tmp = lapply(lines, processLine)\n",
    "    offline = as.data.frame(do.call(\"rbind\", tmp), \n",
    "                            stringsAsFactors= FALSE) \n",
    "    \n",
    "    names(offline) = c(\"time\", \"scanMac\", \n",
    "                       \"posX\", \"posY\", \"posZ\", \"orientation\", \n",
    "                       \"mac\", \"signal\", \"channel\", \"type\")\n",
    "    \n",
    "    # keep only signals from access points\n",
    "    offline = offline[ offline$type == \"3\", ]\n",
    "    \n",
    "    # drop scanMac, posZ, channel, and type - no info in them\n",
    "    dropVars = c(\"scanMac\", \"posZ\", \"channel\", \"type\")\n",
    "    offline = offline[ , !( names(offline) %in% dropVars ) ]\n",
    "    \n",
    "    # drop more unwanted access points\n",
    "    offline = offline[ offline$mac %in% subMacs, ]\n",
    "    \n",
    "    # convert numeric values\n",
    "    numVars = c(\"time\", \"posX\", \"posY\", \"orientation\", \"signal\")\n",
    "    offline[ numVars ] = lapply(offline[ numVars ], as.numeric)\n",
    "    \n",
    "    # convert time to POSIX\n",
    "    offline$rawTime = offline$time\n",
    "    offline$time = offline$time/1000\n",
    "    class(offline$time) = c(\"POSIXt\", \"POSIXct\")\n",
    "    \n",
    "    # round orientations to nearest 45\n",
    "    offline$angle = roundOrientation(offline$orientation)\n",
    "    \n",
    "    return(offline)\n",
    "  }\n",
    "\n",
    "offline = readData('offline.final.trace.txt', macs)"
   ]
  },
  {
   "cell_type": "markdown",
   "metadata": {},
   "source": [
    "## Reading in testing data\n",
    "\n",
    "Importing of the testing data set and summarization = onlineSummary"
   ]
  },
  {
   "cell_type": "code",
   "execution_count": 7,
   "metadata": {
    "collapsed": true
   },
   "outputs": [],
   "source": [
    "online = readData(\"online.final.trace.txt\", macs)\n",
    "online$posXY = paste(online$posX, online$posY, sep = \"-\")\n",
    "\n",
    "keepVars = c(\"posXY\", \"posX\", \"posY\", \"orientation\", \"angle\")\n",
    "byLoc = with(online, \n",
    "             by(online, list(posXY), \n",
    "                function(x) {\n",
    "                  ans = x[1, keepVars]\n",
    "                  avgSS = tapply(x$signal, x$mac, mean)\n",
    "                  y = matrix(avgSS, nrow = 1, ncol = 7,\n",
    "                             dimnames = list(ans$posXY, names(avgSS)))\n",
    "                  cbind(ans, y)\n",
    "                }))\n",
    "\n",
    "onlineSummary = do.call(\"rbind\", byLoc)  "
   ]
  },
  {
   "cell_type": "code",
   "execution_count": 8,
   "metadata": {
    "collapsed": false,
    "scrolled": true
   },
   "outputs": [
    {
     "data": {
      "text/html": [
       "<table>\n",
       "<thead><tr><th></th><th scope=col>posXY</th><th scope=col>posX</th><th scope=col>posY</th><th scope=col>orientation</th><th scope=col>angle</th><th scope=col>00:0f:a3:39:dd:cd</th><th scope=col>00:0f:a3:39:e1:c0</th><th scope=col>00:14:bf:3b:c7:c6</th><th scope=col>00:14:bf:b1:97:81</th><th scope=col>00:14:bf:b1:97:8a</th><th scope=col>00:14:bf:b1:97:8d</th><th scope=col>00:14:bf:b1:97:90</th></tr></thead>\n",
       "<tbody>\n",
       "\t<tr><th scope=row>6-7.88</th><td>6-7.88   </td><td>6.00     </td><td>7.88     </td><td>137.0    </td><td>135      </td><td>-66.05405</td><td>-47.75229</td><td>-57.37634</td><td>-58.78481</td><td>-51.07000</td><td>-54.40000</td><td>-61.91667</td></tr>\n",
       "\t<tr><th scope=row>7.48-7.36</th><td>7.48-7.36</td><td>7.48     </td><td>7.36     </td><td>340.1    </td><td>  0      </td><td>-62.77477</td><td>-43.56881</td><td>-59.63158</td><td>-61.59574</td><td>-52.70642</td><td>-59.89362</td><td>-63.77528</td></tr>\n",
       "\t<tr><th scope=row>8.56-7.64</th><td>8.56-7.64</td><td>8.56     </td><td>7.64     </td><td>305.1    </td><td>315      </td><td>-54.33333</td><td>-46.19266</td><td>-53.83133</td><td>-61.20652</td><td>-55.89320</td><td>-56.65217</td><td>-66.17021</td></tr>\n",
       "\t<tr><th scope=row>9.08-7.24</th><td>9.08-7.24</td><td>9.08     </td><td>7.24     </td><td>338.0    </td><td>  0      </td><td>-55.54867</td><td>-48.30275</td><td>-53.66667</td><td>-58.09639</td><td>-59.20652</td><td>-57.08434</td><td>-65.36364</td></tr>\n",
       "\t<tr><th scope=row>9.46-7.77</th><td>9.46-7.77</td><td>9.46     </td><td>7.77     </td><td>169.4    </td><td>180      </td><td>-61.36697</td><td>-45.48182</td><td>-49.64516</td><td>-61.18824</td><td>-60.80851</td><td>-49.34118</td><td>-71.44737</td></tr>\n",
       "\t<tr><th scope=row>9.86-3.88</th><td>9.86-3.88</td><td>9.86     </td><td>3.88     </td><td>191.1    </td><td>180      </td><td>-65.50000</td><td>-55.30909</td><td>-44.13131</td><td>-52.63333</td><td>-55.94000</td><td>-55.94937</td><td>-65.53261</td></tr>\n",
       "</tbody>\n",
       "</table>\n"
      ],
      "text/latex": [
       "\\begin{tabular}{r|llllllllllll}\n",
       "  & posXY & posX & posY & orientation & angle & 00:0f:a3:39:dd:cd & 00:0f:a3:39:e1:c0 & 00:14:bf:3b:c7:c6 & 00:14:bf:b1:97:81 & 00:14:bf:b1:97:8a & 00:14:bf:b1:97:8d & 00:14:bf:b1:97:90\\\\\n",
       "\\hline\n",
       "\t6-7.88 & 6-7.88    & 6.00      & 7.88      & 137.0     & 135       & -66.05405 & -47.75229 & -57.37634 & -58.78481 & -51.07000 & -54.40000 & -61.91667\\\\\n",
       "\t7.48-7.36 & 7.48-7.36 & 7.48      & 7.36      & 340.1     &   0       & -62.77477 & -43.56881 & -59.63158 & -61.59574 & -52.70642 & -59.89362 & -63.77528\\\\\n",
       "\t8.56-7.64 & 8.56-7.64 & 8.56      & 7.64      & 305.1     & 315       & -54.33333 & -46.19266 & -53.83133 & -61.20652 & -55.89320 & -56.65217 & -66.17021\\\\\n",
       "\t9.08-7.24 & 9.08-7.24 & 9.08      & 7.24      & 338.0     &   0       & -55.54867 & -48.30275 & -53.66667 & -58.09639 & -59.20652 & -57.08434 & -65.36364\\\\\n",
       "\t9.46-7.77 & 9.46-7.77 & 9.46      & 7.77      & 169.4     & 180       & -61.36697 & -45.48182 & -49.64516 & -61.18824 & -60.80851 & -49.34118 & -71.44737\\\\\n",
       "\t9.86-3.88 & 9.86-3.88 & 9.86      & 3.88      & 191.1     & 180       & -65.50000 & -55.30909 & -44.13131 & -52.63333 & -55.94000 & -55.94937 & -65.53261\\\\\n",
       "\\end{tabular}\n"
      ],
      "text/markdown": [
       "\n",
       "| <!--/--> | posXY | posX | posY | orientation | angle | 00:0f:a3:39:dd:cd | 00:0f:a3:39:e1:c0 | 00:14:bf:3b:c7:c6 | 00:14:bf:b1:97:81 | 00:14:bf:b1:97:8a | 00:14:bf:b1:97:8d | 00:14:bf:b1:97:90 | \n",
       "|---|---|---|---|---|---|\n",
       "| 6-7.88 | 6-7.88    | 6.00      | 7.88      | 137.0     | 135       | -66.05405 | -47.75229 | -57.37634 | -58.78481 | -51.07000 | -54.40000 | -61.91667 | \n",
       "| 7.48-7.36 | 7.48-7.36 | 7.48      | 7.36      | 340.1     |   0       | -62.77477 | -43.56881 | -59.63158 | -61.59574 | -52.70642 | -59.89362 | -63.77528 | \n",
       "| 8.56-7.64 | 8.56-7.64 | 8.56      | 7.64      | 305.1     | 315       | -54.33333 | -46.19266 | -53.83133 | -61.20652 | -55.89320 | -56.65217 | -66.17021 | \n",
       "| 9.08-7.24 | 9.08-7.24 | 9.08      | 7.24      | 338.0     |   0       | -55.54867 | -48.30275 | -53.66667 | -58.09639 | -59.20652 | -57.08434 | -65.36364 | \n",
       "| 9.46-7.77 | 9.46-7.77 | 9.46      | 7.77      | 169.4     | 180       | -61.36697 | -45.48182 | -49.64516 | -61.18824 | -60.80851 | -49.34118 | -71.44737 | \n",
       "| 9.86-3.88 | 9.86-3.88 | 9.86      | 3.88      | 191.1     | 180       | -65.50000 | -55.30909 | -44.13131 | -52.63333 | -55.94000 | -55.94937 | -65.53261 | \n",
       "\n",
       "\n"
      ],
      "text/plain": [
       "          posXY     posX posY orientation angle 00:0f:a3:39:dd:cd\n",
       "6-7.88    6-7.88    6.00 7.88 137.0       135   -66.05405        \n",
       "7.48-7.36 7.48-7.36 7.48 7.36 340.1         0   -62.77477        \n",
       "8.56-7.64 8.56-7.64 8.56 7.64 305.1       315   -54.33333        \n",
       "9.08-7.24 9.08-7.24 9.08 7.24 338.0         0   -55.54867        \n",
       "9.46-7.77 9.46-7.77 9.46 7.77 169.4       180   -61.36697        \n",
       "9.86-3.88 9.86-3.88 9.86 3.88 191.1       180   -65.50000        \n",
       "          00:0f:a3:39:e1:c0 00:14:bf:3b:c7:c6 00:14:bf:b1:97:81\n",
       "6-7.88    -47.75229         -57.37634         -58.78481        \n",
       "7.48-7.36 -43.56881         -59.63158         -61.59574        \n",
       "8.56-7.64 -46.19266         -53.83133         -61.20652        \n",
       "9.08-7.24 -48.30275         -53.66667         -58.09639        \n",
       "9.46-7.77 -45.48182         -49.64516         -61.18824        \n",
       "9.86-3.88 -55.30909         -44.13131         -52.63333        \n",
       "          00:14:bf:b1:97:8a 00:14:bf:b1:97:8d 00:14:bf:b1:97:90\n",
       "6-7.88    -51.07000         -54.40000         -61.91667        \n",
       "7.48-7.36 -52.70642         -59.89362         -63.77528        \n",
       "8.56-7.64 -55.89320         -56.65217         -66.17021        \n",
       "9.08-7.24 -59.20652         -57.08434         -65.36364        \n",
       "9.46-7.77 -60.80851         -49.34118         -71.44737        \n",
       "9.86-3.88 -55.94000         -55.94937         -65.53261        "
      ]
     },
     "metadata": {},
     "output_type": "display_data"
    }
   ],
   "source": [
    "tail(onlineSummary)"
   ]
  },
  {
   "cell_type": "markdown",
   "metadata": {},
   "source": [
    "## Training data summarization\n",
    "Offline summarization by XY position\n",
    "- signalSummary\n",
    "- offlineSummary (7 macs)\n",
    "- offlineSummary_orig (6 macs)"
   ]
  },
  {
   "cell_type": "code",
   "execution_count": 9,
   "metadata": {
    "collapsed": true
   },
   "outputs": [],
   "source": [
    "offline$posXY = paste(offline$posX, offline$posY, sep = \"-\")\n",
    "\n",
    "byLocAngleAP = with(offline, \n",
    "                    by(offline, list(posXY, angle, mac), \n",
    "                       function(x) x))\n",
    "\n",
    "signalSummary = lapply(byLocAngleAP, function(oneLoc) {\n",
    "           ans = oneLoc[1, ]\n",
    "           ans$medSignal = median(oneLoc$signal)\n",
    "           ans$avgSignal = mean(oneLoc$signal)\n",
    "           ans$num = length(oneLoc$signal)\n",
    "           ans$sdSignal = sd(oneLoc$signal)\n",
    "           ans$iqrSignal = IQR(oneLoc$signal)\n",
    "           ans\n",
    "           })\n",
    "\n",
    "offlineSummary = do.call(\"rbind\", signalSummary)\n",
    "\n",
    "# eliminate the 00:0f:a3:39:dd:cd address\n",
    "offlineSummary_orig = subset(offlineSummary, mac != macs[2])\n",
    "\n",
    "# 6 MAC points coordinates on floor plan\n",
    "AP = matrix(c( 7.5, 6.3, 2.5, -.8, 12.8, -2.8,  \n",
    "                1, 14, 33.5, 9.3, 33.5, 2.8),\n",
    "            ncol = 2, byrow = TRUE,\n",
    "            dimnames = list(macs[-2], c(\"x\", \"y\") ))\n",
    "\n",
    "# Euclidean distances from receiving to emittting points\n",
    "diffs = offlineSummary_orig[ , c(\"posX\", \"posY\")] - AP[ offlineSummary_orig$mac, ] \n",
    "offlineSummary_orig$dist = sqrt(diffs[ , 1]^2 + diffs[ , 2]^2)"
   ]
  },
  {
   "cell_type": "markdown",
   "metadata": {},
   "source": [
    "## Signal strength aggregation\n",
    "\n",
    "Offline (training) and Online (testing) data sets with the same structure\n",
    "- reshapeSS (6 macs)"
   ]
  },
  {
   "cell_type": "code",
   "execution_count": 10,
   "metadata": {
    "collapsed": true
   },
   "outputs": [],
   "source": [
    "reshapeSS = function(data, varSignal = \"signal\", \n",
    "                     keepVars = c(\"posXY\", \"posX\",\"posY\"),\n",
    "                     sampleAngle = FALSE, \n",
    "                     refs = seq(0, 315, by = 45)) {\n",
    "  byLocation =\n",
    "    with(data, by(data, list(posXY), \n",
    "                  function(x) {\n",
    "                    if (sampleAngle) {\n",
    "                      x = x[x$angle == sample(refs, size = 1), ]}\n",
    "                    ans = x[1, keepVars]\n",
    "                    avgSS = tapply(x[ , varSignal ], x$mac, mean)\n",
    "                    y = matrix(avgSS, nrow = 1, ncol = 6,\n",
    "                               dimnames = list(ans$posXY,\n",
    "                                               names(avgSS)))\n",
    "                    cbind(ans, y)\n",
    "                  }))\n",
    "\n",
    "  newDataSS = do.call(\"rbind\", byLocation)\n",
    "  return(newDataSS)\n",
    "}"
   ]
  },
  {
   "cell_type": "markdown",
   "metadata": {},
   "source": [
    "- selectTrain = f(reshapeSS)"
   ]
  },
  {
   "cell_type": "code",
   "execution_count": 11,
   "metadata": {
    "collapsed": true
   },
   "outputs": [],
   "source": [
    "selectTrain = function(angleNewObs, signals = NULL, m = 1){\n",
    "  refs = seq(0, by = 45, length  = 8)\n",
    "  nearestAngle = roundOrientation(angleNewObs)\n",
    "  \n",
    "  if (m %% 2 == 1) \n",
    "    angles = seq(-45 * (m - 1) /2, 45 * (m - 1) /2, length = m)\n",
    "  else {\n",
    "    m = m + 1\n",
    "    angles = seq(-45 * (m - 1) /2, 45 * (m - 1) /2, length = m)\n",
    "    if (sign(angleNewObs - nearestAngle) > -1) \n",
    "      angles = angles[ -1 ]\n",
    "    else \n",
    "      angles = angles[ -m ]\n",
    "  }\n",
    "  angles = angles + nearestAngle\n",
    "  angles[angles < 0] = angles[ angles < 0 ] + 360\n",
    "  angles[angles > 360] = angles[ angles > 360 ] - 360\n",
    "  angles = sort(angles) \n",
    "  \n",
    "  offlineSubset = signals[ signals$angle %in% angles, ]\n",
    "  reshapeSS(offlineSubset, varSignal = \"avgSignal\")\n",
    "}"
   ]
  },
  {
   "cell_type": "markdown",
   "metadata": {},
   "source": [
    "## Finding the nearest neighbors\n",
    "\n",
    "- findNN (function)"
   ]
  },
  {
   "cell_type": "code",
   "execution_count": 12,
   "metadata": {
    "collapsed": true
   },
   "outputs": [],
   "source": [
    "findNN = function(newSignal, trainSubset) {\n",
    "  diffs = apply(trainSubset[ , 4:9], 1, \n",
    "                function(x) x - newSignal) # this inverts, places x,y on cols when called as.numeric\n",
    "  dists = apply(diffs, 2, function(x) sqrt(sum(x^2)) ) # this gets our distance (euclidean)\n",
    "  closest = order(dists) # orders our distances in ascending\n",
    "  return(trainSubset[closest, 1:3 ]) # returns the subset from training with closest distances, gives xy ID, x, y\n",
    "}"
   ]
  },
  {
   "cell_type": "markdown",
   "metadata": {},
   "source": [
    "- predXY (function)"
   ]
  },
  {
   "cell_type": "code",
   "execution_count": 13,
   "metadata": {
    "collapsed": true
   },
   "outputs": [],
   "source": [
    "predXY = function(newSignals, newAngles, trainData, \n",
    "                  numAngles = 1, k = 3){\n",
    "  \n",
    "  closeXY = list(length = nrow(newSignals))\n",
    "  \n",
    "  for (i in 1:nrow(newSignals)) {\n",
    "    trainSS = selectTrain(newAngles[i], trainData, m = numAngles)\n",
    "    closeXY[[i]] = findNN(newSignal = as.numeric(newSignals[i, ]),\n",
    "                           trainSS)\n",
    "  }\n",
    "\n",
    "  estXY = lapply(closeXY, function(x)\n",
    "                            sapply(x[ , 2:3], \n",
    "                                    function(x) mean(x[1:k])))\n",
    "  estXY = do.call(\"rbind\", estXY)\n",
    "  return(estXY)\n",
    "}"
   ]
  },
  {
   "cell_type": "markdown",
   "metadata": {},
   "source": [
    "## Weighted Average\n",
    "\n",
    "- predXYwtd (modified for weighted average function) in order to incorporate:\n",
    "$\\frac{1/d_i}{\\sum_{i=1}^{k}{1/d_i}}$"
   ]
  },
  {
   "cell_type": "code",
   "execution_count": 14,
   "metadata": {
    "collapsed": true
   },
   "outputs": [],
   "source": [
    "predXYwtd = function(newSignals, newAngles, trainData, \n",
    "                     numAngles = 1, k = 3){\n",
    "  \n",
    "  closeXY = list(length = nrow(newSignals))\n",
    "  \n",
    "  for (i in 1:nrow(newSignals)) {\n",
    "    trainSS = selectTrain(newAngles[i], trainData, m = numAngles)\n",
    "    base = findWtdNN(newSignal = as.numeric(newSignals[i, ]), trainSS)\n",
    "    wts = append(base[1:k, 4]/sum(base[1:k, 4]), rep(0, nrow(base)-k))\n",
    "  }\n",
    "  return(cbind(base[,2:3], wts))\n",
    "}"
   ]
  },
  {
   "cell_type": "markdown",
   "metadata": {},
   "source": [
    "- findWtdNN (modified for weighted average function)"
   ]
  },
  {
   "cell_type": "code",
   "execution_count": 15,
   "metadata": {
    "collapsed": true
   },
   "outputs": [],
   "source": [
    "findWtdNN = function(newSignal, trainSubset) {\n",
    "  diffs = apply(trainSubset[ , 4:9], 1, \n",
    "                function(x) x - newSignal) \n",
    "  dists = apply(diffs, 2, function(x) sqrt(sum(x^2)) ) \n",
    "  closest = order(dists)\n",
    "  closeXY = trainSubset[closest, 1:3 ]\n",
    "  weight = as.numeric(1/dists[closest]) \n",
    "  return(cbind(closeXY, weight)) \n",
    "}"
   ]
  },
  {
   "cell_type": "markdown",
   "metadata": {},
   "source": [
    "Apply the weighted average to the testing data set (onlineSummary)"
   ]
  },
  {
   "cell_type": "code",
   "execution_count": 16,
   "metadata": {
    "collapsed": true
   },
   "outputs": [],
   "source": [
    "onlineSummary_orig = onlineSummary[, !(names(onlineSummary) %in% \"00:0f:a3:39:dd:cd\")]\n",
    "weight_ex <- predXYwtd(onlineSummary_orig[1,6:11], onlineSummary[,4], offlineSummary_orig, numAngles = 3, k=3)"
   ]
  },
  {
   "cell_type": "markdown",
   "metadata": {},
   "source": [
    "- predXYwtd (weighted average function)"
   ]
  },
  {
   "cell_type": "code",
   "execution_count": 17,
   "metadata": {
    "collapsed": true
   },
   "outputs": [],
   "source": [
    "predXYwtd = function(newSignals, newAngles, trainData, \n",
    "                     numAngles = 1, k = 3){\n",
    "  \n",
    "  closeXY = list(length = nrow(newSignals))\n",
    "  \n",
    "  for (i in 1:nrow(newSignals)) {\n",
    "    trainSS = selectTrain(newAngles[i], trainData, m = numAngles)\n",
    "    base = findWtdNN(newSignal = as.numeric(newSignals[i, ]), trainSS) # get matrix of x,y, numerator for weights\n",
    "    wts = append(base[1:k, 4]/sum(base[1:k, 4]), rep(0, nrow(base)-k))  # calculate weights based on K, append zero array for delta of len-k\n",
    "    base[, 2:3] = base[, 2:3]*wts # multiply weights array * matrix of x,y to get weighted vals\n",
    "    closeXY[[i]] = base[,1:3] # append weighted xy, x, y values to list\n",
    "  }\n",
    "  estXY = lapply(closeXY, # loop over each xy position-based dataframe\n",
    "                 function(x) sapply(x[ , 2:3], function(x) sum(x))) # sum all as neighbors > k == 0 now, and x,y is already weighted!\n",
    "  estXY = do.call(\"rbind\", estXY) # pull predictions together for each observation xy in test set\n",
    "  return(estXY)\n",
    "}"
   ]
  },
  {
   "cell_type": "markdown",
   "metadata": {},
   "source": [
    "## Cross-validation\n",
    "\n",
    "- calcError (function)"
   ]
  },
  {
   "cell_type": "code",
   "execution_count": 18,
   "metadata": {
    "collapsed": true
   },
   "outputs": [],
   "source": [
    "calcError = \n",
    "function(estXY, actualXY) \n",
    "   sum( rowSums( (estXY - actualXY)^2) )"
   ]
  },
  {
   "cell_type": "markdown",
   "metadata": {},
   "source": [
    "- cross_validate (function)"
   ]
  },
  {
   "cell_type": "code",
   "execution_count": 19,
   "metadata": {
    "collapsed": true
   },
   "outputs": [],
   "source": [
    "cross_validate = function(train_full, train_summary, K=20, folds=11, \n",
    "                          keepVars = c(\"posXY\", \"posX\",\"posY\", \"orientation\", \"angle\"),\n",
    "                          wtd=FALSE) {\n",
    "set.seed(25)\n",
    "permuteLocs = sample(unique(train_summary$posXY))\n",
    "permuteLocs = matrix(permuteLocs, ncol = folds, \n",
    "                     nrow = floor(length(permuteLocs)/folds))\n",
    "\n",
    "onlineCVSummary = reshapeSS(train_full, keepVars = keepVars, sampleAngle = TRUE)\n",
    "\n",
    "err = rep(0, K)\n",
    "\n",
    "for (j in 1:folds) {\n",
    "  onlineFold = subset(onlineCVSummary, \n",
    "                      posXY %in% permuteLocs[ , j])\n",
    "  offlineFold = subset(train_summary,\n",
    "                       posXY %in% permuteLocs[ , -j])\n",
    "  actualFold = onlineFold[ , c(\"posX\", \"posY\")]\n",
    "  \n",
    "    for (k in 1:K) {\n",
    "      if(wtd == TRUE){\n",
    "                       estFold = predXYwtd(newSignals = onlineFold[ , 6:11],\n",
    "                                 newAngles = onlineFold[ , 4], \n",
    "                                 offlineFold, numAngles = 3, k = k)\n",
    "                       err[k] = err[k] + calcError(estFold, actualFold)\n",
    "      \n",
    "                     } else {\n",
    "                       estFold = predXY(newSignals = onlineFold[ , 6:11],\n",
    "                                        newAngles = onlineFold[ , 4], \n",
    "                                        offlineFold, numAngles = 3, k = k)\n",
    "                       err[k] = err[k] + calcError(estFold, actualFold)\n",
    "                     }\n",
    "                    }\n",
    "                   }\n",
    "\n",
    "rmseMin = min(err)\n",
    "kMin = which(err == rmseMin)[1]\n",
    "\n",
    "return(list(rmseMin, kMin, err))\n",
    "}"
   ]
  },
  {
   "cell_type": "markdown",
   "metadata": {},
   "source": [
    "# Results\n",
    "## Scenario 1\n",
    "Keep access point with mac:00:0f:a3:39:e1:c0 and eliminate data with mac:00:0f:a3:39:dd:cd (original) (6 macs)"
   ]
  },
  {
   "cell_type": "code",
   "execution_count": 20,
   "metadata": {
    "collapsed": false
   },
   "outputs": [
    {
     "name": "stderr",
     "output_type": "stream",
     "text": [
      "Warning message in matrix(permuteLocs, ncol = folds, nrow = floor(length(permuteLocs)/folds)):\n",
      "“data length [166] is not a sub-multiple or multiple of the number of rows [15]”"
     ]
    },
    {
     "name": "stdout",
     "output_type": "stream",
     "text": [
      "[1] \"Scenario 1 1038.5\"                                                                                                                                                                                         \n",
      "[2] \"Scenario 1 6\"                                                                                                                                                                                              \n",
      "[3] \"Scenario 1 c(1515, 1282, 1121, 1099.0625, 1093.28, 1038.5, 1066.95918367347, 1049.875, 1068.7037037037, 1099.86, 1102.61157024793, 1123.39583333333, 1150.76923076923, 1172.97959183673, 1195.90222222222)\"\n"
     ]
    }
   ],
   "source": [
    "offline_scenario1 = offline[ offline$mac != \"00:0f:a3:39:dd:cd\", ]\n",
    "results_scenario1 = cross_validate(offline_scenario1, offlineSummary_orig, K = 15, wtd = FALSE)\n",
    "print(paste('Scenario 1',results_scenario1))"
   ]
  },
  {
   "cell_type": "markdown",
   "metadata": {},
   "source": [
    "## Scenario 2\n",
    "Same as Scenario 1, but apply weighted average (instead of straight average) (6 macs)"
   ]
  },
  {
   "cell_type": "code",
   "execution_count": 21,
   "metadata": {
    "collapsed": false,
    "scrolled": true
   },
   "outputs": [
    {
     "name": "stderr",
     "output_type": "stream",
     "text": [
      "Warning message in matrix(permuteLocs, ncol = folds, nrow = floor(length(permuteLocs)/folds)):\n",
      "“data length [166] is not a sub-multiple or multiple of the number of rows [15]”"
     ]
    },
    {
     "name": "stdout",
     "output_type": "stream",
     "text": [
      "[1] \"Scenario2 1015.18690797938\"                                                                                                                                                                                                                                                 \n",
      "[2] \"Scenario2 6\"                                                                                                                                                                                                                                                                \n",
      "[3] \"Scenario2 c(1515, 1273.10062016433, 1102.2642151606, 1074.24049747035, 1061.53124187946, 1015.18690797938, 1036.39248877713, 1020.09585266379, 1036.20625501185, 1058.22731631014, 1061.62041411801, 1079.9912721658, 1098.56798727289, 1111.42507300543, 1124.03691861609)\"\n"
     ]
    }
   ],
   "source": [
    "results_scenario2 = cross_validate(offline_scenario1, offlineSummary_orig, K = 15, wtd = TRUE)\n",
    "print(paste('Scenario2', results_scenario2))"
   ]
  },
  {
   "cell_type": "markdown",
   "metadata": {},
   "source": [
    "## Scenario 3\n",
    "Eliminate access point with mac:00:0f:a3:39:e1:c0 and keep the data with mac:00:0f:a3:39:dd:cd (new) (6 macs)"
   ]
  },
  {
   "cell_type": "code",
   "execution_count": 22,
   "metadata": {
    "collapsed": false
   },
   "outputs": [
    {
     "name": "stderr",
     "output_type": "stream",
     "text": [
      "Warning message in matrix(permuteLocs, ncol = folds, nrow = floor(length(permuteLocs)/folds)):\n",
      "“data length [166] is not a sub-multiple or multiple of the number of rows [15]”"
     ]
    },
    {
     "name": "stdout",
     "output_type": "stream",
     "text": [
      "[1] \"Scenario 3 935.611111111111\"                                                                                                                                                                                                 \n",
      "[2] \"Scenario 3 6\"                                                                                                                                                                                                                \n",
      "[3] \"Scenario 3 c(1392, 1109.25, 959.333333333333, 950.0625, 953.88, 935.611111111111, 956.040816326531, 980.421875, 1003.16049382716, 1040.89, 1073.04958677686, 1098.125, 1123.15976331361, 1136.85204081633, 1162.38222222222)\"\n"
     ]
    }
   ],
   "source": [
    "offline_scenario3 = offline[ offline$mac != \"00:0f:a3:39:e1:c0\", ]\n",
    "offlineSummary_scenario3 = offlineSummary[offlineSummary$mac != \"00:0f:a3:39:e1:c0\", ]\n",
    "\n",
    "results_scenario3 = cross_validate(offline_scenario3, offlineSummary_scenario3, K = 15, wtd = FALSE)\n",
    "print(paste('Scenario 3',results_scenario3))"
   ]
  },
  {
   "cell_type": "markdown",
   "metadata": {},
   "source": [
    "## Scenario 4\n",
    "Same as Scenario 3, but apply weighted average (instead of straight average) (6 macs)"
   ]
  },
  {
   "cell_type": "code",
   "execution_count": 23,
   "metadata": {
    "collapsed": false
   },
   "outputs": [
    {
     "name": "stderr",
     "output_type": "stream",
     "text": [
      "Warning message in matrix(permuteLocs, ncol = folds, nrow = floor(length(permuteLocs)/folds)):\n",
      "“data length [166] is not a sub-multiple or multiple of the number of rows [15]”"
     ]
    },
    {
     "name": "stdout",
     "output_type": "stream",
     "text": [
      "[1] \"Scenario 4 908.383829087602\"                                                                                                                                                                                                                                                   \n",
      "[2] \"Scenario 4 6\"                                                                                                                                                                                                                                                                  \n",
      "[3] \"Scenario 4 c(1392, 1102.22032382265, 947.784671886505, 929.232476232528, 924.865965643884, 908.383829087602, 925.827592648343, 945.911072434793, 961.647005195819, 989.450730324949, 1015.22954669755, 1034.76182020886, 1054.63518260055, 1063.13579550405, 1078.29992254989)\"\n"
     ]
    }
   ],
   "source": [
    "results_scenario4 = cross_validate(offline_scenario3, offlineSummary_scenario3, K = 15, wtd = TRUE)\n",
    "print(paste('Scenario 4',results_scenario4))"
   ]
  },
  {
   "cell_type": "markdown",
   "metadata": {},
   "source": [
    "## Scenario 5\n",
    "Keep both access points with straight average (7 macs)"
   ]
  },
  {
   "cell_type": "markdown",
   "metadata": {},
   "source": [
    "- reshapeSS (7 macs)"
   ]
  },
  {
   "cell_type": "code",
   "execution_count": 24,
   "metadata": {
    "collapsed": true
   },
   "outputs": [],
   "source": [
    "reshapeSS = function(data, varSignal = \"signal\", \n",
    "                     keepVars = c(\"posXY\", \"posX\",\"posY\"),\n",
    "                     sampleAngle = FALSE, \n",
    "                     refs = seq(0, 315, by = 45)) {\n",
    "  byLocation =\n",
    "    with(data, by(data, list(posXY), \n",
    "                  function(x) {\n",
    "                    if (sampleAngle) {\n",
    "                      x = x[x$angle == sample(refs, size = 1), ]}\n",
    "                    ans = x[1, keepVars]\n",
    "                    avgSS = tapply(x[ , varSignal ], x$mac, mean)\n",
    "                    y = matrix(avgSS, nrow = 1, ncol = 7,\n",
    "                               dimnames = list(ans$posXY,\n",
    "                                               names(avgSS)))\n",
    "                    cbind(ans, y)\n",
    "                  }))\n",
    "\n",
    "  newDataSS = do.call(\"rbind\", byLocation)\n",
    "  return(newDataSS)\n",
    "}"
   ]
  },
  {
   "cell_type": "code",
   "execution_count": 25,
   "metadata": {
    "collapsed": false
   },
   "outputs": [
    {
     "name": "stderr",
     "output_type": "stream",
     "text": [
      "Warning message in matrix(permuteLocs, ncol = folds, nrow = floor(length(permuteLocs)/folds)):\n",
      "“data length [166] is not a sub-multiple or multiple of the number of rows [15]”"
     ]
    },
    {
     "name": "stdout",
     "output_type": "stream",
     "text": [
      "[1] \"Scenario5 1100\"                                                                                                                                                                                                                \n",
      "[2] \"Scenario5 4\"                                                                                                                                                                                                                   \n",
      "[3] \"Scenario5 c(1235, 1161.25, 1101.88888888889, 1100, 1175.64, 1267.69444444444, 1186.85714285714, 1174.90625, 1151.0987654321, 1180.89, 1208.3305785124, 1260.27777777778, 1311.57396449704, 1369.58673469388, 1396.04444444444)\"\n"
     ]
    }
   ],
   "source": [
    "results_scenario5 = cross_validate(offline, offlineSummary, K = 15, wtd = FALSE)\n",
    "print(paste('Scenario5', results_scenario5))"
   ]
  },
  {
   "cell_type": "markdown",
   "metadata": {},
   "source": [
    "## Scenario 6 \n",
    "Keep both access points with weighted average (7 macs)"
   ]
  },
  {
   "cell_type": "code",
   "execution_count": 26,
   "metadata": {
    "collapsed": false
   },
   "outputs": [
    {
     "name": "stderr",
     "output_type": "stream",
     "text": [
      "Warning message in matrix(permuteLocs, ncol = folds, nrow = floor(length(permuteLocs)/folds)):\n",
      "“data length [166] is not a sub-multiple or multiple of the number of rows [15]”"
     ]
    },
    {
     "name": "stdout",
     "output_type": "stream",
     "text": [
      "[1] \"Scenario6 1051.74590104903\"                                                                                                                                                                                                                                                  \n",
      "[2] \"Scenario6 4\"                                                                                                                                                                                                                                                                 \n",
      "[3] \"Scenario6 c(1235, 1137.13776497622, 1078.29507604212, 1051.74590104903, 1109.69372824986, 1189.66845954218, 1127.15794605753, 1116.4730634507, 1098.82467420447, 1114.35012537879, 1138.98600078956, 1176.31480347373, 1216.68868589187, 1263.57475139248, 1277.61610044675)\"\n"
     ]
    }
   ],
   "source": [
    "results_scenario6 = cross_validate(offline, offlineSummary, K = 15, wtd = TRUE)\n",
    "print(paste('Scenario6', results_scenario6))"
   ]
  },
  {
   "cell_type": "markdown",
   "metadata": {},
   "source": [
    "# Conclusion\n",
    "\n",
    "Based on the Section 4 Results, and the evaluation criteria (rmseMin):\n",
    "\n",
    "$error_{k} = \\sum \\left[Prediction\\left( x, y \\right) - Actual\\left( x, y \\right) \\right] ^{2}$ : for any given fold\n",
    "\n",
    "$rmseMin = \\min(error_{k})$ : best performing fold\n",
    "\n",
    "As shown in Table 3 below, the weighted average outperforms the naive straight average initially presented in each scenario.\n",
    "Furthermore, contrary to what was presented in Chapter 1, keeping MAC address 00:0f:a3:39:e1:c0 was not the best course of action. Scenario 3 and 4 prove that MAC 00:0f:a3:39:dd:cd yields better results than its predecessor. "
   ]
  },
  {
   "cell_type": "code",
   "execution_count": 27,
   "metadata": {
    "collapsed": false
   },
   "outputs": [
    {
     "data": {
      "text/html": [
       "<table>\n",
       "<thead><tr><th scope=col>MAC</th><th scope=col>StraightAvg</th><th scope=col>WeightedAvg</th></tr></thead>\n",
       "<tbody>\n",
       "\t<tr><td>00:0f:a3:39:e1:c0</td><td>1038.5000        </td><td>1015.1869        </td></tr>\n",
       "\t<tr><td>00:0f:a3:39:dd:cd</td><td> 935.6111        </td><td> 908.3838        </td></tr>\n",
       "\t<tr><td>BOTH             </td><td>1100.0000        </td><td>1051.7459        </td></tr>\n",
       "</tbody>\n",
       "</table>\n"
      ],
      "text/latex": [
       "\\begin{tabular}{r|lll}\n",
       " MAC & StraightAvg & WeightedAvg\\\\\n",
       "\\hline\n",
       "\t 00:0f:a3:39:e1:c0 & 1038.5000         & 1015.1869        \\\\\n",
       "\t 00:0f:a3:39:dd:cd &  935.6111         &  908.3838        \\\\\n",
       "\t BOTH              & 1100.0000         & 1051.7459        \\\\\n",
       "\\end{tabular}\n"
      ],
      "text/markdown": [
       "\n",
       "MAC | StraightAvg | WeightedAvg | \n",
       "|---|---|---|\n",
       "| 00:0f:a3:39:e1:c0 | 1038.5000         | 1015.1869         | \n",
       "| 00:0f:a3:39:dd:cd |  935.6111         |  908.3838         | \n",
       "| BOTH              | 1100.0000         | 1051.7459         | \n",
       "\n",
       "\n"
      ],
      "text/plain": [
       "  MAC               StraightAvg WeightedAvg\n",
       "1 00:0f:a3:39:e1:c0 1038.5000   1015.1869  \n",
       "2 00:0f:a3:39:dd:cd  935.6111    908.3838  \n",
       "3 BOTH              1100.0000   1051.7459  "
      ]
     },
     "metadata": {},
     "output_type": "display_data"
    }
   ],
   "source": [
    "MAC <- c(\"00:0f:a3:39:e1:c0\", \"00:0f:a3:39:dd:cd\", \"BOTH\")\n",
    "StraightAvg <- c(results_scenario1[[1]], results_scenario3[[1]], results_scenario5[[1]])\n",
    "WeightedAvg <- c(results_scenario2[[1]], results_scenario4[[1]], results_scenario6[[1]])\n",
    "resultSummary <- data.frame(MAC, StraightAvg, WeightedAvg)\n",
    "resultSummary"
   ]
  },
  {
   "cell_type": "markdown",
   "metadata": {},
   "source": [
    "TABLE 3: Results Summary"
   ]
  },
  {
   "cell_type": "markdown",
   "metadata": {},
   "source": [
    "In order to address the question, *for what range of values of weights are you able to obtain better prediction values than for the unweighted k-nn approach?*, each unweighted scenario is graphed against its weighted counterpart. The sum of square errors as a function of the number of neighbors used in predicting the location of a new observation shows that for *k* < 4 there are no material difference between the two methods. However the delta between the two curves (across figure 1, 2 and 3) shows that the weighted average outperforms the straight average for larger *k* values."
   ]
  },
  {
   "cell_type": "code",
   "execution_count": 28,
   "metadata": {
    "collapsed": false
   },
   "outputs": [
    {
     "data": {
      "image/png": "[encoded data removed]",
      "text/plain": [
       "plot without title"
      ]
     },
     "metadata": {},
     "output_type": "display_data"
    }
   ],
   "source": [
    "g1 <- ggplot(mapping=aes(x=seq(1, 15, 1)))+\n",
    "  geom_line(mapping=aes(y=results_scenario1[[3]], color=\"Straight\"), linetype=\"solid\")+\n",
    "  geom_line(mapping=aes(y=results_scenario2[[3]], color=\"Weighted\"), linetype=\"dashed\")+\n",
    "  theme(legend.position=\"top\", \n",
    "        legend.text = element_text(color=\"black\", size=8, face=\"bold\"),\n",
    "        legend.title = element_blank(),\n",
    "        panel.grid.major = element_blank(), panel.grid.minor = element_blank(),\n",
    "        panel.background = element_blank(), axis.line = element_line(color = \"black\")\n",
    "        )+\n",
    "  ggtitle(\"Figure 1: 00:0f:a3:39:e1:c0\") + \n",
    "  ylim(900, 1600) +\n",
    "  labs(y=\"rmseMin\", x=\"k\")\n",
    "\n",
    "g2 <- ggplot(mapping=aes(x=seq(1, 15, 1)))+\n",
    "  geom_line(mapping=aes(y=results_scenario3[[3]], color=\"Straight\"), linetype=\"solid\")+\n",
    "  geom_line(mapping=aes(y=results_scenario4[[3]], color=\"Weighted\"), linetype=\"dashed\")+\n",
    "  theme(legend.position=\"top\", \n",
    "        legend.text = element_text(color=\"black\", size=8, face=\"bold\"),\n",
    "        legend.title = element_blank(),\n",
    "        panel.grid.major = element_blank(), panel.grid.minor = element_blank(),\n",
    "        panel.background = element_blank(), axis.line = element_line(color = \"black\")\n",
    "        )+\n",
    "  ggtitle(\"Figure 2: 00:0f:a3:39:dd:cd\") +\n",
    "  ylim(900, 1600) +\n",
    "  labs(y=\"rmseMin\", x=\"k\")\n",
    "\n",
    "g3 <- ggplot(mapping=aes(x=seq(1, 15, 1)))+\n",
    "  geom_line(mapping=aes(y=results_scenario5[[3]], color=\"Straight\"), linetype=\"solid\")+\n",
    "  geom_line(mapping=aes(y=results_scenario6[[3]], color=\"Weighted\"), linetype=\"dashed\")+\n",
    "  theme(legend.position=\"top\", \n",
    "        legend.text = element_text(color=\"black\", size=8, face=\"bold\"),\n",
    "        legend.title = element_blank(),\n",
    "        panel.grid.major = element_blank(), panel.grid.minor = element_blank(),\n",
    "        panel.background = element_blank(), axis.line = element_line(color = \"black\")\n",
    "        )+\n",
    "  ggtitle(\"Figure 3: BOTH\") +\n",
    "  ylim(900, 1600) +\n",
    "  labs(y=\"rmseMin\", x=\"k\")\n",
    "\n",
    "gridExtra::grid.arrange(g1, g2, g3, nrow=2)"
   ]
  },
  {
   "cell_type": "markdown",
   "metadata": {},
   "source": [
    "# References\n",
    "\n",
    "1. Nolan, D., and Temple Lang, D. (2015), *Data Science in R: A Case Studies Approach to Computational Reasoning and Problem Solving.* Boca Raton, FL: CRC Press (NTL).\n",
    "\n",
    "2. Thomas King, Stephan Kopf, Thomas Haenselmann, Christian Lubberger, Wolfgang Effelsberg, CRAWDAD dataset mannheim/compass (v. 2008‑04‑11), downloaded from https://crawdad.org/mannheim/compass/20080411, Apr 2008.\n",
    "\n",
    "3. Mike Crowder, Brian Kolovich, Brandon Lawerance, Geardo Garza, *Predicting Location via Indoor Positioning Systems*, https://rstudio-pubs-static.s3.amazonaws.com/418209_df1f71a6fca84906baa91dfed53e4af8.html"
   ]
  }
 ],
 "metadata": {
  "anaconda-cloud": {},
  "kernelspec": {
   "display_name": "R",
   "language": "R",
   "name": "ir"
  },
  "language_info": {
   "codemirror_mode": "r",
   "file_extension": ".r",
   "mimetype": "text/x-r-source",
   "name": "R",
   "pygments_lexer": "r",
   "version": "3.3.2"
  }
 },
 "nbformat": 4,
 "nbformat_minor": 2
}
